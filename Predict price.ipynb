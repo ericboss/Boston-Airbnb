{
 "cells": [
  {
   "cell_type": "code",
   "execution_count": 22,
   "metadata": {},
   "outputs": [],
   "source": [
    "from sklearn import preprocessing\n",
    "import pandas as pd\n",
    "import numpy as np\n",
    "from sklearn.cross_validation import train_test_split\n",
    "import lightgbm as lgb\n",
    "from sklearn.metrics import mean_absolute_error\n",
    "%matplotlib inline"
   ]
  },
  {
   "cell_type": "markdown",
   "metadata": {},
   "source": [
    "## Gather Data"
   ]
  },
  {
   "cell_type": "code",
   "execution_count": 1,
   "metadata": {},
   "outputs": [],
   "source": [
    "\n",
    "# Loading listing and review data from Boston\n",
    "lis_bos = pd.read_csv('dat/boston/listings.csv')\n",
    "rev_bos = pd.read_csv('dat/boston/reviews.csv')"
   ]
  },
  {
   "cell_type": "markdown",
   "metadata": {},
   "source": [
    "## Assess"
   ]
  },
  {
   "cell_type": "code",
   "execution_count": 10,
   "metadata": {},
   "outputs": [
    {
     "name": "stdout",
     "output_type": "stream",
     "text": [
      "<class 'pandas.core.frame.DataFrame'>\n",
      "RangeIndex: 3585 entries, 0 to 3584\n",
      "Data columns (total 95 columns):\n",
      "id                                  3585 non-null int64\n",
      "listing_url                         3585 non-null object\n",
      "scrape_id                           3585 non-null int64\n",
      "last_scraped                        3585 non-null object\n",
      "name                                3585 non-null object\n",
      "summary                             3442 non-null object\n",
      "space                               2528 non-null object\n",
      "description                         3585 non-null object\n",
      "experiences_offered                 3585 non-null object\n",
      "neighborhood_overview               2170 non-null object\n",
      "notes                               1610 non-null object\n",
      "transit                             2295 non-null object\n",
      "access                              2096 non-null object\n",
      "interaction                         2031 non-null object\n",
      "house_rules                         2393 non-null object\n",
      "thumbnail_url                       2986 non-null object\n",
      "medium_url                          2986 non-null object\n",
      "picture_url                         3585 non-null object\n",
      "xl_picture_url                      2986 non-null object\n",
      "host_id                             3585 non-null int64\n",
      "host_url                            3585 non-null object\n",
      "host_name                           3585 non-null object\n",
      "host_since                          3585 non-null object\n",
      "host_location                       3574 non-null object\n",
      "host_about                          2276 non-null object\n",
      "host_response_time                  3114 non-null object\n",
      "host_response_rate                  3114 non-null object\n",
      "host_acceptance_rate                3114 non-null object\n",
      "host_is_superhost                   3585 non-null object\n",
      "host_thumbnail_url                  3585 non-null object\n",
      "host_picture_url                    3585 non-null object\n",
      "host_neighbourhood                  3246 non-null object\n",
      "host_listings_count                 3585 non-null int64\n",
      "host_total_listings_count           3585 non-null int64\n",
      "host_verifications                  3585 non-null object\n",
      "host_has_profile_pic                3585 non-null object\n",
      "host_identity_verified              3585 non-null object\n",
      "street                              3585 non-null object\n",
      "neighbourhood                       3042 non-null object\n",
      "neighbourhood_cleansed              3585 non-null object\n",
      "neighbourhood_group_cleansed        0 non-null float64\n",
      "city                                3583 non-null object\n",
      "state                               3585 non-null object\n",
      "zipcode                             3547 non-null object\n",
      "market                              3571 non-null object\n",
      "smart_location                      3585 non-null object\n",
      "country_code                        3585 non-null object\n",
      "country                             3585 non-null object\n",
      "latitude                            3585 non-null float64\n",
      "longitude                           3585 non-null float64\n",
      "is_location_exact                   3585 non-null object\n",
      "property_type                       3582 non-null object\n",
      "room_type                           3585 non-null object\n",
      "accommodates                        3585 non-null int64\n",
      "bathrooms                           3571 non-null float64\n",
      "bedrooms                            3575 non-null float64\n",
      "beds                                3576 non-null float64\n",
      "bed_type                            3585 non-null object\n",
      "amenities                           3585 non-null object\n",
      "square_feet                         56 non-null float64\n",
      "price                               3585 non-null object\n",
      "weekly_price                        892 non-null object\n",
      "monthly_price                       888 non-null object\n",
      "security_deposit                    1342 non-null object\n",
      "cleaning_fee                        2478 non-null object\n",
      "guests_included                     3585 non-null int64\n",
      "extra_people                        3585 non-null object\n",
      "minimum_nights                      3585 non-null int64\n",
      "maximum_nights                      3585 non-null int64\n",
      "calendar_updated                    3585 non-null object\n",
      "has_availability                    0 non-null float64\n",
      "availability_30                     3585 non-null int64\n",
      "availability_60                     3585 non-null int64\n",
      "availability_90                     3585 non-null int64\n",
      "availability_365                    3585 non-null int64\n",
      "calendar_last_scraped               3585 non-null object\n",
      "number_of_reviews                   3585 non-null int64\n",
      "first_review                        2829 non-null object\n",
      "last_review                         2829 non-null object\n",
      "review_scores_rating                2772 non-null float64\n",
      "review_scores_accuracy              2762 non-null float64\n",
      "review_scores_cleanliness           2767 non-null float64\n",
      "review_scores_checkin               2765 non-null float64\n",
      "review_scores_communication         2767 non-null float64\n",
      "review_scores_location              2763 non-null float64\n",
      "review_scores_value                 2764 non-null float64\n",
      "requires_license                    3585 non-null object\n",
      "license                             0 non-null float64\n",
      "jurisdiction_names                  0 non-null float64\n",
      "instant_bookable                    3585 non-null object\n",
      "cancellation_policy                 3585 non-null object\n",
      "require_guest_profile_picture       3585 non-null object\n",
      "require_guest_phone_verification    3585 non-null object\n",
      "calculated_host_listings_count      3585 non-null int64\n",
      "reviews_per_month                   2829 non-null float64\n",
      "dtypes: float64(18), int64(15), object(62)\n",
      "memory usage: 2.6+ MB\n"
     ]
    }
   ],
   "source": [
    "lis_bos.info()"
   ]
  },
  {
   "cell_type": "code",
   "execution_count": 3,
   "metadata": {},
   "outputs": [
    {
     "data": {
      "text/html": [
       "<div>\n",
       "<style>\n",
       "    .dataframe thead tr:only-child th {\n",
       "        text-align: right;\n",
       "    }\n",
       "\n",
       "    .dataframe thead th {\n",
       "        text-align: left;\n",
       "    }\n",
       "\n",
       "    .dataframe tbody tr th {\n",
       "        vertical-align: top;\n",
       "    }\n",
       "</style>\n",
       "<table border=\"1\" class=\"dataframe\">\n",
       "  <thead>\n",
       "    <tr style=\"text-align: right;\">\n",
       "      <th></th>\n",
       "      <th>id</th>\n",
       "      <th>scrape_id</th>\n",
       "      <th>host_id</th>\n",
       "      <th>host_listings_count</th>\n",
       "      <th>host_total_listings_count</th>\n",
       "      <th>neighbourhood_group_cleansed</th>\n",
       "      <th>latitude</th>\n",
       "      <th>longitude</th>\n",
       "      <th>accommodates</th>\n",
       "      <th>bathrooms</th>\n",
       "      <th>...</th>\n",
       "      <th>review_scores_accuracy</th>\n",
       "      <th>review_scores_cleanliness</th>\n",
       "      <th>review_scores_checkin</th>\n",
       "      <th>review_scores_communication</th>\n",
       "      <th>review_scores_location</th>\n",
       "      <th>review_scores_value</th>\n",
       "      <th>license</th>\n",
       "      <th>jurisdiction_names</th>\n",
       "      <th>calculated_host_listings_count</th>\n",
       "      <th>reviews_per_month</th>\n",
       "    </tr>\n",
       "  </thead>\n",
       "  <tbody>\n",
       "    <tr>\n",
       "      <th>count</th>\n",
       "      <td>3.585000e+03</td>\n",
       "      <td>3.585000e+03</td>\n",
       "      <td>3.585000e+03</td>\n",
       "      <td>3585.000000</td>\n",
       "      <td>3585.000000</td>\n",
       "      <td>0.0</td>\n",
       "      <td>3585.000000</td>\n",
       "      <td>3585.000000</td>\n",
       "      <td>3585.000000</td>\n",
       "      <td>3571.000000</td>\n",
       "      <td>...</td>\n",
       "      <td>2762.000000</td>\n",
       "      <td>2767.000000</td>\n",
       "      <td>2765.000000</td>\n",
       "      <td>2767.000000</td>\n",
       "      <td>2763.000000</td>\n",
       "      <td>2764.000000</td>\n",
       "      <td>0.0</td>\n",
       "      <td>0.0</td>\n",
       "      <td>3585.000000</td>\n",
       "      <td>2829.000000</td>\n",
       "    </tr>\n",
       "    <tr>\n",
       "      <th>mean</th>\n",
       "      <td>8.440875e+06</td>\n",
       "      <td>2.016091e+13</td>\n",
       "      <td>2.492311e+07</td>\n",
       "      <td>58.902371</td>\n",
       "      <td>58.902371</td>\n",
       "      <td>NaN</td>\n",
       "      <td>42.340032</td>\n",
       "      <td>-71.084818</td>\n",
       "      <td>3.041283</td>\n",
       "      <td>1.221647</td>\n",
       "      <td>...</td>\n",
       "      <td>9.431571</td>\n",
       "      <td>9.258041</td>\n",
       "      <td>9.646293</td>\n",
       "      <td>9.646549</td>\n",
       "      <td>9.414043</td>\n",
       "      <td>9.168234</td>\n",
       "      <td>NaN</td>\n",
       "      <td>NaN</td>\n",
       "      <td>12.733891</td>\n",
       "      <td>1.970908</td>\n",
       "    </tr>\n",
       "    <tr>\n",
       "      <th>std</th>\n",
       "      <td>4.500787e+06</td>\n",
       "      <td>0.000000e+00</td>\n",
       "      <td>2.292781e+07</td>\n",
       "      <td>171.119663</td>\n",
       "      <td>171.119663</td>\n",
       "      <td>NaN</td>\n",
       "      <td>0.024403</td>\n",
       "      <td>0.031565</td>\n",
       "      <td>1.778929</td>\n",
       "      <td>0.501487</td>\n",
       "      <td>...</td>\n",
       "      <td>0.931863</td>\n",
       "      <td>1.168977</td>\n",
       "      <td>0.762753</td>\n",
       "      <td>0.735507</td>\n",
       "      <td>0.903436</td>\n",
       "      <td>1.011116</td>\n",
       "      <td>NaN</td>\n",
       "      <td>NaN</td>\n",
       "      <td>29.415076</td>\n",
       "      <td>2.120561</td>\n",
       "    </tr>\n",
       "    <tr>\n",
       "      <th>min</th>\n",
       "      <td>3.353000e+03</td>\n",
       "      <td>2.016091e+13</td>\n",
       "      <td>4.240000e+03</td>\n",
       "      <td>0.000000</td>\n",
       "      <td>0.000000</td>\n",
       "      <td>NaN</td>\n",
       "      <td>42.235942</td>\n",
       "      <td>-71.171789</td>\n",
       "      <td>1.000000</td>\n",
       "      <td>0.000000</td>\n",
       "      <td>...</td>\n",
       "      <td>2.000000</td>\n",
       "      <td>2.000000</td>\n",
       "      <td>2.000000</td>\n",
       "      <td>4.000000</td>\n",
       "      <td>2.000000</td>\n",
       "      <td>2.000000</td>\n",
       "      <td>NaN</td>\n",
       "      <td>NaN</td>\n",
       "      <td>1.000000</td>\n",
       "      <td>0.010000</td>\n",
       "    </tr>\n",
       "    <tr>\n",
       "      <th>25%</th>\n",
       "      <td>4.679319e+06</td>\n",
       "      <td>2.016091e+13</td>\n",
       "      <td>6.103425e+06</td>\n",
       "      <td>1.000000</td>\n",
       "      <td>1.000000</td>\n",
       "      <td>NaN</td>\n",
       "      <td>42.329995</td>\n",
       "      <td>-71.105083</td>\n",
       "      <td>2.000000</td>\n",
       "      <td>1.000000</td>\n",
       "      <td>...</td>\n",
       "      <td>9.000000</td>\n",
       "      <td>9.000000</td>\n",
       "      <td>9.000000</td>\n",
       "      <td>9.000000</td>\n",
       "      <td>9.000000</td>\n",
       "      <td>9.000000</td>\n",
       "      <td>NaN</td>\n",
       "      <td>NaN</td>\n",
       "      <td>1.000000</td>\n",
       "      <td>0.480000</td>\n",
       "    </tr>\n",
       "    <tr>\n",
       "      <th>50%</th>\n",
       "      <td>8.577620e+06</td>\n",
       "      <td>2.016091e+13</td>\n",
       "      <td>1.928100e+07</td>\n",
       "      <td>2.000000</td>\n",
       "      <td>2.000000</td>\n",
       "      <td>NaN</td>\n",
       "      <td>42.345201</td>\n",
       "      <td>-71.078429</td>\n",
       "      <td>2.000000</td>\n",
       "      <td>1.000000</td>\n",
       "      <td>...</td>\n",
       "      <td>10.000000</td>\n",
       "      <td>10.000000</td>\n",
       "      <td>10.000000</td>\n",
       "      <td>10.000000</td>\n",
       "      <td>10.000000</td>\n",
       "      <td>9.000000</td>\n",
       "      <td>NaN</td>\n",
       "      <td>NaN</td>\n",
       "      <td>2.000000</td>\n",
       "      <td>1.170000</td>\n",
       "    </tr>\n",
       "    <tr>\n",
       "      <th>75%</th>\n",
       "      <td>1.278953e+07</td>\n",
       "      <td>2.016091e+13</td>\n",
       "      <td>3.622147e+07</td>\n",
       "      <td>7.000000</td>\n",
       "      <td>7.000000</td>\n",
       "      <td>NaN</td>\n",
       "      <td>42.354685</td>\n",
       "      <td>-71.062155</td>\n",
       "      <td>4.000000</td>\n",
       "      <td>1.000000</td>\n",
       "      <td>...</td>\n",
       "      <td>10.000000</td>\n",
       "      <td>10.000000</td>\n",
       "      <td>10.000000</td>\n",
       "      <td>10.000000</td>\n",
       "      <td>10.000000</td>\n",
       "      <td>10.000000</td>\n",
       "      <td>NaN</td>\n",
       "      <td>NaN</td>\n",
       "      <td>6.000000</td>\n",
       "      <td>2.720000</td>\n",
       "    </tr>\n",
       "    <tr>\n",
       "      <th>max</th>\n",
       "      <td>1.493346e+07</td>\n",
       "      <td>2.016091e+13</td>\n",
       "      <td>9.385411e+07</td>\n",
       "      <td>749.000000</td>\n",
       "      <td>749.000000</td>\n",
       "      <td>NaN</td>\n",
       "      <td>42.389982</td>\n",
       "      <td>-71.000100</td>\n",
       "      <td>16.000000</td>\n",
       "      <td>6.000000</td>\n",
       "      <td>...</td>\n",
       "      <td>10.000000</td>\n",
       "      <td>10.000000</td>\n",
       "      <td>10.000000</td>\n",
       "      <td>10.000000</td>\n",
       "      <td>10.000000</td>\n",
       "      <td>10.000000</td>\n",
       "      <td>NaN</td>\n",
       "      <td>NaN</td>\n",
       "      <td>136.000000</td>\n",
       "      <td>19.150000</td>\n",
       "    </tr>\n",
       "  </tbody>\n",
       "</table>\n",
       "<p>8 rows × 33 columns</p>\n",
       "</div>"
      ],
      "text/plain": [
       "                 id     scrape_id       host_id  host_listings_count  \\\n",
       "count  3.585000e+03  3.585000e+03  3.585000e+03          3585.000000   \n",
       "mean   8.440875e+06  2.016091e+13  2.492311e+07            58.902371   \n",
       "std    4.500787e+06  0.000000e+00  2.292781e+07           171.119663   \n",
       "min    3.353000e+03  2.016091e+13  4.240000e+03             0.000000   \n",
       "25%    4.679319e+06  2.016091e+13  6.103425e+06             1.000000   \n",
       "50%    8.577620e+06  2.016091e+13  1.928100e+07             2.000000   \n",
       "75%    1.278953e+07  2.016091e+13  3.622147e+07             7.000000   \n",
       "max    1.493346e+07  2.016091e+13  9.385411e+07           749.000000   \n",
       "\n",
       "       host_total_listings_count  neighbourhood_group_cleansed     latitude  \\\n",
       "count                3585.000000                           0.0  3585.000000   \n",
       "mean                   58.902371                           NaN    42.340032   \n",
       "std                   171.119663                           NaN     0.024403   \n",
       "min                     0.000000                           NaN    42.235942   \n",
       "25%                     1.000000                           NaN    42.329995   \n",
       "50%                     2.000000                           NaN    42.345201   \n",
       "75%                     7.000000                           NaN    42.354685   \n",
       "max                   749.000000                           NaN    42.389982   \n",
       "\n",
       "         longitude  accommodates    bathrooms        ...          \\\n",
       "count  3585.000000   3585.000000  3571.000000        ...           \n",
       "mean    -71.084818      3.041283     1.221647        ...           \n",
       "std       0.031565      1.778929     0.501487        ...           \n",
       "min     -71.171789      1.000000     0.000000        ...           \n",
       "25%     -71.105083      2.000000     1.000000        ...           \n",
       "50%     -71.078429      2.000000     1.000000        ...           \n",
       "75%     -71.062155      4.000000     1.000000        ...           \n",
       "max     -71.000100     16.000000     6.000000        ...           \n",
       "\n",
       "       review_scores_accuracy  review_scores_cleanliness  \\\n",
       "count             2762.000000                2767.000000   \n",
       "mean                 9.431571                   9.258041   \n",
       "std                  0.931863                   1.168977   \n",
       "min                  2.000000                   2.000000   \n",
       "25%                  9.000000                   9.000000   \n",
       "50%                 10.000000                  10.000000   \n",
       "75%                 10.000000                  10.000000   \n",
       "max                 10.000000                  10.000000   \n",
       "\n",
       "       review_scores_checkin  review_scores_communication  \\\n",
       "count            2765.000000                  2767.000000   \n",
       "mean                9.646293                     9.646549   \n",
       "std                 0.762753                     0.735507   \n",
       "min                 2.000000                     4.000000   \n",
       "25%                 9.000000                     9.000000   \n",
       "50%                10.000000                    10.000000   \n",
       "75%                10.000000                    10.000000   \n",
       "max                10.000000                    10.000000   \n",
       "\n",
       "       review_scores_location  review_scores_value  license  \\\n",
       "count             2763.000000          2764.000000      0.0   \n",
       "mean                 9.414043             9.168234      NaN   \n",
       "std                  0.903436             1.011116      NaN   \n",
       "min                  2.000000             2.000000      NaN   \n",
       "25%                  9.000000             9.000000      NaN   \n",
       "50%                 10.000000             9.000000      NaN   \n",
       "75%                 10.000000            10.000000      NaN   \n",
       "max                 10.000000            10.000000      NaN   \n",
       "\n",
       "       jurisdiction_names  calculated_host_listings_count  reviews_per_month  \n",
       "count                 0.0                     3585.000000        2829.000000  \n",
       "mean                  NaN                       12.733891           1.970908  \n",
       "std                   NaN                       29.415076           2.120561  \n",
       "min                   NaN                        1.000000           0.010000  \n",
       "25%                   NaN                        1.000000           0.480000  \n",
       "50%                   NaN                        2.000000           1.170000  \n",
       "75%                   NaN                        6.000000           2.720000  \n",
       "max                   NaN                      136.000000          19.150000  \n",
       "\n",
       "[8 rows x 33 columns]"
      ]
     },
     "execution_count": 3,
     "metadata": {},
     "output_type": "execute_result"
    }
   ],
   "source": [
    "lis_bos.describe()"
   ]
  },
  {
   "cell_type": "code",
   "execution_count": 4,
   "metadata": {},
   "outputs": [
    {
     "name": "stdout",
     "output_type": "stream",
     "text": [
      "<class 'pandas.core.frame.DataFrame'>\n",
      "RangeIndex: 68275 entries, 0 to 68274\n",
      "Data columns (total 6 columns):\n",
      "listing_id       68275 non-null int64\n",
      "id               68275 non-null int64\n",
      "date             68275 non-null object\n",
      "reviewer_id      68275 non-null int64\n",
      "reviewer_name    68275 non-null object\n",
      "comments         68223 non-null object\n",
      "dtypes: int64(3), object(3)\n",
      "memory usage: 3.1+ MB\n"
     ]
    }
   ],
   "source": [
    "rev_bos.info()"
   ]
  },
  {
   "cell_type": "markdown",
   "metadata": {},
   "source": [
    "## Clean\n",
    "- Remove urls as the url's directs to the home page wich is not very useful.\n",
    "- Removing all columns with more than 50% missing values\n",
    "- Remove text columns as they describe the home or surrounding.\n",
    "- Remove the $ ,% and , signs in columns containing it and convert them to float to ease analysis.\n",
    "- Since there are few values missing,replace categorical missing values with their mode and continuous values with their mean"
   ]
  },
  {
   "cell_type": "code",
   "execution_count": 6,
   "metadata": {},
   "outputs": [],
   "source": [
    "def clean_data(df):\n",
    "    \"\"\"\n",
    "    INPUT:\n",
    "    df - pandas dataframe containing listings informations in Boston\n",
    "    \n",
    "    OUTPUT:\n",
    "    df_final - a new dataframe that has the following characteristics:\n",
    "    - Remove urls as the url's directs to the home page wich is not very useful.\n",
    "    - Removing all columns with more than 50% missing values\n",
    "    - Remove text columns as they describe the home or surrounding.\n",
    "    - Remove the $ ,% and , signs in columns containing it and convert them to float to ease analysis.\n",
    "    - Since there are few values missing,replace categorical missing values with their mode and continuous values with their mean\n",
    "    \"\"\"\n",
    "    \n",
    "    \n",
    "    df= df.drop(['listing_url','scrape_id','last_scraped','thumbnail_url','medium_url','picture_url','xl_picture_url',\n",
    "                 'host_url','host_thumbnail_url','host_picture_url','weekly_price','monthly_price',\n",
    "                 'neighbourhood_group_cleansed','square_feet','has_availability','license','jurisdiction_names','first_review',\n",
    "                 'last_review','market','neighbourhood', 'host_neighbourhood', 'host_about', \n",
    "                 'house_rules', 'interaction','access',\n",
    "             'transit','notes', 'neighborhood_overview', 'space', 'summary','description','experiences_offered'], axis=1)\n",
    "   \n",
    "\n",
    "    # Roving characters in in prices, cleaning fee and security deposit\n",
    "    df['cleaning_fee'],df['security_deposit'],df['price']=df.cleaning_fee.str.replace('$','').astype(float),df.security_deposit.str.replace('$',''),df.price.str.replace('$','')\n",
    "    df.security_deposit = df.security_deposit.str.replace(',','').astype(float)\n",
    "    df.price = df.price.str.replace(',','').astype(float)\n",
    "\n",
    "    \n",
    "    #Select the categorical columns \n",
    "    df_cat = df.select_dtypes(include=['object'])\n",
    "    \n",
    "    \n",
    "    fill_mode = ['zipcode', 'city', 'host_response_time', 'host_location','property_type']\n",
    "    # fill columns corresponding to fill_mode with their mode values\n",
    "    for fill in fill_mode:\n",
    "        df_cat[fill].fillna(df_cat[fill].mode()[0], inplace=True)\n",
    "        \n",
    "   \n",
    "      #removing % and converting to float in a few columns  \n",
    "    df_cat.host_acceptance_rate = df_cat.host_acceptance_rate.str.replace('%','').astype(float)\n",
    "    df_cat.host_response_rate = df_cat.host_response_rate.str.replace('%','').astype(float)\n",
    "    \n",
    "     # filling some columns with their mean   \n",
    "    df_cat['host_acceptance_rate'].fillna(df_cat['host_acceptance_rate'].mean(), inplace=True) \n",
    "    df_cat['host_response_rate'].fillna(df_cat['host_response_rate'].mean(), inplace=True) \n",
    "    \n",
    "    # Select float and int datatypes in df\n",
    "    df_con = df.select_dtypes(include=['int64', 'float64'])\n",
    "    \n",
    "    li= ['reviews_per_month','review_scores_value','review_scores_location','review_scores_communication','review_scores_checkin',\n",
    "    'review_scores_cleanliness','review_scores_accuracy','review_scores_rating','beds','bedrooms','bathrooms','cleaning_fee', 'security_deposit']\n",
    "    \n",
    "    # filling missing columns with their mean\n",
    "    for i in li:\n",
    "        df_con[i].fillna(df_con[i].mean(), inplace=True)\n",
    "    df_final= pd.concat([df_cat, df_con], axis =1)\n",
    "    return df_final\n",
    "    "
   ]
  },
  {
   "cell_type": "code",
   "execution_count": 7,
   "metadata": {},
   "outputs": [
    {
     "name": "stderr",
     "output_type": "stream",
     "text": [
      "c:\\users\\boss\\anaconda3\\anaconda\\envs\\kaggle1\\lib\\site-packages\\pandas\\core\\generic.py:3660: SettingWithCopyWarning: \n",
      "A value is trying to be set on a copy of a slice from a DataFrame\n",
      "\n",
      "See the caveats in the documentation: http://pandas.pydata.org/pandas-docs/stable/indexing.html#indexing-view-versus-copy\n",
      "  self._update_inplace(new_data)\n",
      "c:\\users\\boss\\anaconda3\\anaconda\\envs\\kaggle1\\lib\\site-packages\\pandas\\core\\generic.py:3110: SettingWithCopyWarning: \n",
      "A value is trying to be set on a copy of a slice from a DataFrame.\n",
      "Try using .loc[row_indexer,col_indexer] = value instead\n",
      "\n",
      "See the caveats in the documentation: http://pandas.pydata.org/pandas-docs/stable/indexing.html#indexing-view-versus-copy\n",
      "  self[name] = value\n"
     ]
    }
   ],
   "source": [
    "df = clean_data(lis_bos)"
   ]
  },
  {
   "cell_type": "markdown",
   "metadata": {},
   "source": [
    "## Analyze"
   ]
  },
  {
   "cell_type": "code",
   "execution_count": 25,
   "metadata": {},
   "outputs": [],
   "source": [
    "def preprocess(df):\n",
    "    \"\"\"\n",
    "     INPUT:\n",
    "     df - pandas dataframe containing cleaned listings informations in Boston\n",
    "     \n",
    "     OUTPUT:\n",
    "     X_train, X_test, y_train, y_test -  that has the following characteristics:\n",
    "     \n",
    "     - Normalized the continuous columns\n",
    "     - Converting the object data type columns to category for use in Lightgbm\n",
    "     - Splitting the data into data and label\n",
    "     - Splitting the data into the training and testing dataset\n",
    "    \"\"\"\n",
    "    # selecting int and float columns in df\n",
    "    con = df.select_dtypes(['int64', 'float64']).copy()\n",
    "    #Drop the label column(price)\n",
    "    con=con.drop('price', axis=1)\n",
    "    # Normalize the int and float columns in df\n",
    "    con1 = preprocessing.StandardScaler().fit_transform(con)\n",
    "    fr =  pd.DataFrame(con1,columns = con.columns)\n",
    "    # Select the object tye columns in df\n",
    "    cat = df.select_dtypes(['object']).copy()\n",
    "    # concatenete both the categorical and continuous columns\n",
    "    df1 = pd.concat([fr,cat], axis=1)\n",
    "    \n",
    "    X = df1\n",
    "    \n",
    "    # Normalizing the label y\n",
    "    y = (df['price'].values- df['price'].min())/(df['price'].max() - df['price'].min()) \n",
    "    \n",
    "    # Converting the object data type columns to category for use in Lightgbm\n",
    "    for c in X.columns:\n",
    "        col_type = X[c].dtype\n",
    "        if col_type == 'object' or col_type.name == 'category':\n",
    "            X[c] = X[c].astype('category')\n",
    "    # Splitting the data into the training and testing dataset\n",
    "    X_train, X_test, y_train, y_test = train_test_split(X, y, test_size=0.20, random_state=314)\n",
    "    \n",
    "    return X_train, X_test, y_train, y_test,X,y"
   ]
  },
  {
   "cell_type": "code",
   "execution_count": 26,
   "metadata": {},
   "outputs": [],
   "source": [
    "X_train, X_test, y_train, y_test ,X, y= preprocess(df)"
   ]
  },
  {
   "cell_type": "markdown",
   "metadata": {},
   "source": [
    "## Model"
   ]
  },
  {
   "cell_type": "code",
   "execution_count": 16,
   "metadata": {},
   "outputs": [],
   "source": [
    "fit_params={\n",
    "    \"early_stopping_rounds\":10, \n",
    "            \"eval_metric\" : 'mae', \n",
    "            \"eval_set\" : [(X_test,y_test)],\n",
    "            'eval_names': ['valid'],\n",
    "            'verbose': 100,\n",
    "            'feature_name': 'auto', # that's actually the default\n",
    "            'categorical_feature': 'auto' # that's actually the default\n",
    "           }"
   ]
  },
  {
   "cell_type": "code",
   "execution_count": 17,
   "metadata": {},
   "outputs": [
    {
     "name": "stdout",
     "output_type": "stream",
     "text": [
      "Training until validation scores don't improve for 10 rounds.\n",
      "[100]\tvalid's l1: 0.014795\n",
      "[200]\tvalid's l1: 0.0129716\n",
      "[300]\tvalid's l1: 0.0123299\n",
      "[400]\tvalid's l1: 0.0119844\n",
      "[500]\tvalid's l1: 0.0117868\n",
      "[600]\tvalid's l1: 0.0116787\n",
      "Early stopping, best iteration is:\n",
      "[659]\tvalid's l1: 0.0116179\n"
     ]
    },
    {
     "data": {
      "text/plain": [
       "LGBMRegressor(boosting_type='gbdt', colsample_bytree=0.9, learning_rate=0.01,\n",
       "       max_bin=255, max_depth=5, metric='None', min_child_samples=10,\n",
       "       min_child_weight=5, min_split_gain=0.0, n_estimators=1000, n_jobs=4,\n",
       "       num_leaves=10, objective=None, random_state=314, reg_alpha=0.0,\n",
       "       reg_lambda=0.0, silent=True, subsample=0.9, subsample_for_bin=50000,\n",
       "       subsample_freq=1)"
      ]
     },
     "execution_count": 17,
     "metadata": {},
     "output_type": "execute_result"
    }
   ],
   "source": [
    "\n",
    "# instantiate model\n",
    "clf = lgb.LGBMRegressor(num_leaves= 10, max_depth=5, \n",
    "                         random_state=314,\n",
    "                         colsample_bytree=0.9,\n",
    "                         subsample=0.9,\n",
    "                         silent=True, \n",
    "                         metric='None', \n",
    "                         n_jobs=4, \n",
    "                         n_estimators=1000,\n",
    "                         \n",
    "                         learning_rate=0.01)\n",
    "\n",
    "# Traning the model\n",
    "clf.fit(X_train, y_train, **fit_params)\n",
    "\n"
   ]
  },
  {
   "cell_type": "code",
   "execution_count": 18,
   "metadata": {},
   "outputs": [],
   "source": [
    "# predicting X_test\n",
    "y_pred = clf.predict(X_test)"
   ]
  },
  {
   "cell_type": "code",
   "execution_count": 20,
   "metadata": {},
   "outputs": [],
   "source": [
    "#Accuracy\n",
    "mean_absolute_error =mean_absolute_error(y_pred,y_test)"
   ]
  },
  {
   "cell_type": "code",
   "execution_count": 21,
   "metadata": {},
   "outputs": [
    {
     "data": {
      "text/plain": [
       "0.011611463300111992"
      ]
     },
     "execution_count": 21,
     "metadata": {},
     "output_type": "execute_result"
    }
   ],
   "source": [
    "# overall mean_absolute_error \n",
    "mean_absolute_error"
   ]
  },
  {
   "cell_type": "markdown",
   "metadata": {},
   "source": [
    "## Visualize"
   ]
  },
  {
   "cell_type": "code",
   "execution_count": 27,
   "metadata": {},
   "outputs": [
    {
     "data": {
      "text/plain": [
       "<matplotlib.axes._subplots.AxesSubplot at 0x63c72cb6d8>"
      ]
     },
     "execution_count": 27,
     "metadata": {},
     "output_type": "execute_result"
    },
    {
     "data": {
      "image/png": "[encoded data removed]",
      "text/plain": [
       "<matplotlib.figure.Figure at 0x63c72d0f28>"
      ]
     },
     "metadata": {},
     "output_type": "display_data"
    }
   ],
   "source": [
    "# Plotting features by importance\n",
    "feat_imp = pd.Series(clf.feature_importances_, index=X.columns)\n",
    "feat_imp.nlargest(30).plot(kind='barh', figsize=(8,10))"
   ]
  },
  {
   "cell_type": "markdown",
   "metadata": {},
   "source": [
    "### We need to modify the class so that it outputs feature importance according to which one is relevant to predicting price "
   ]
  },
  {
   "cell_type": "code",
   "execution_count": 28,
   "metadata": {},
   "outputs": [],
   "source": [
    "\n",
    "class LGBMRegressor_GainFE(lgb.LGBMRegressor):\n",
    "    @property\n",
    "    def feature_importances_(self):\n",
    "        if self._n_features is None:\n",
    "            raise LGBMNotFittedError('No feature_importances found. Need to call fit beforehand.')\n",
    "        return self.booster_.feature_importance(importance_type='gain')\n",
    "    "
   ]
  },
  {
   "cell_type": "code",
   "execution_count": 29,
   "metadata": {},
   "outputs": [],
   "source": [
    "clf2 = LGBMRegressor_GainFE(num_leaves= 15, max_depth=10, \n",
    "                         random_state=314, \n",
    "                         silent=True, \n",
    "                         metric='mae', \n",
    "                         n_jobs=4, \n",
    "                         n_estimators=1000,\n",
    "                         colsample_bytree=0.9,\n",
    "                         subsample=0.9,\n",
    "                         learning_rate=0.01)"
   ]
  },
  {
   "cell_type": "code",
   "execution_count": 30,
   "metadata": {},
   "outputs": [
    {
     "name": "stdout",
     "output_type": "stream",
     "text": [
      "Training until validation scores don't improve for 10 rounds.\n",
      "[100]\tvalid's l1: 0.0144867\n",
      "[200]\tvalid's l1: 0.0127126\n",
      "[300]\tvalid's l1: 0.0119751\n",
      "[400]\tvalid's l1: 0.0116183\n",
      "[500]\tvalid's l1: 0.0114092\n",
      "Early stopping, best iteration is:\n",
      "[527]\tvalid's l1: 0.0113808\n"
     ]
    },
    {
     "data": {
      "text/plain": [
       "LGBMRegressor_GainFE(boosting_type='gbdt', colsample_bytree=0.9,\n",
       "           learning_rate=0.01, max_bin=255, max_depth=10, metric='mae',\n",
       "           min_child_samples=10, min_child_weight=5, min_split_gain=0.0,\n",
       "           n_estimators=1000, n_jobs=4, num_leaves=15, objective=None,\n",
       "           random_state=314, reg_alpha=0.0, reg_lambda=0.0, silent=True,\n",
       "           subsample=0.9, subsample_for_bin=50000, subsample_freq=1)"
      ]
     },
     "execution_count": 30,
     "metadata": {},
     "output_type": "execute_result"
    }
   ],
   "source": [
    "clf2.fit(X_train, y_train, **fit_params)"
   ]
  },
  {
   "cell_type": "code",
   "execution_count": 31,
   "metadata": {},
   "outputs": [
    {
     "data": {
      "text/plain": [
       "<matplotlib.axes._subplots.AxesSubplot at 0x63c773c828>"
      ]
     },
     "execution_count": 31,
     "metadata": {},
     "output_type": "execute_result"
    },
    {
     "data": {
      "image/png": "[encoded data removed]",
      "text/plain": [
       "<matplotlib.figure.Figure at 0x63c753cbe0>"
      ]
     },
     "metadata": {},
     "output_type": "display_data"
    }
   ],
   "source": [
    "feat_imp = pd.Series(clf2.feature_importances_, index=X.columns)\n",
    "feat_imp.nlargest(30).plot(kind='barh', figsize=(8,10))"
   ]
  },
  {
   "cell_type": "code",
   "execution_count": 171,
   "metadata": {},
   "outputs": [],
   "source": []
  },
  {
   "cell_type": "code",
   "execution_count": null,
   "metadata": {},
   "outputs": [],
   "source": []
  },
  {
   "cell_type": "code",
   "execution_count": null,
   "metadata": {},
   "outputs": [],
   "source": []
  },
  {
   "cell_type": "code",
   "execution_count": null,
   "metadata": {},
   "outputs": [],
   "source": []
  },
  {
   "cell_type": "code",
   "execution_count": null,
   "metadata": {},
   "outputs": [],
   "source": []
  },
  {
   "cell_type": "code",
   "execution_count": null,
   "metadata": {},
   "outputs": [],
   "source": []
  }
 ],
 "metadata": {
  "kernelspec": {
   "display_name": "Python 3",
   "language": "python",
   "name": "python3"
  },
  "language_info": {
   "codemirror_mode": {
    "name": "ipython",
    "version": 3
   },
   "file_extension": ".py",
   "mimetype": "text/x-python",
   "name": "python",
   "nbconvert_exporter": "python",
   "pygments_lexer": "ipython3",
   "version": "3.6.2"
  }
 },
 "nbformat": 4,
 "nbformat_minor": 2
}
